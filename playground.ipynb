{
 "metadata": {
  "language_info": {
   "codemirror_mode": {
    "name": "ipython",
    "version": 3
   },
   "file_extension": ".py",
   "mimetype": "text/x-python",
   "name": "python",
   "nbconvert_exporter": "python",
   "pygments_lexer": "ipython3",
   "version": "3.8.2-final"
  },
  "orig_nbformat": 2,
  "kernelspec": {
   "name": "python38264bitvenvvenv2b1833d8e1214cbbb67981512ac144b8",
   "display_name": "Python 3.8.2 64-bit ('venv': venv)"
  }
 },
 "nbformat": 4,
 "nbformat_minor": 2,
 "cells": [
  {
   "cell_type": "code",
   "execution_count": 1,
   "metadata": {},
   "outputs": [],
   "source": [
    "import pandas as pd\n",
    "import numpy as np\n",
    "import matplotlib.pyplot as plt\n",
    "from tqdm import tqdm\n",
    "import json\n",
    "import time\n",
    "\n",
    "#We use the same datasets for every project so I don't think it would be a bad idea to make a metadata file. \n",
    "#I've created an example of a potential schema with the abalone set\n",
    "\n",
    "with open(\"MLAlgorithms/Datasets/metadata.json\",'r') as f:\n",
    "    metadata = json.loads(f.read())\n",
    "\n",
    "df = pd.read_csv(\"MLAlgorithms/Datasets/\" + metadata[\"breastCancer\"][\"dataPath\"], names=metadata[\"breastCancer\"][\"attributes\"], na_values=metadata[\"breastCancer\"][\"NAValues\"])\n",
    "df = df.dropna()\n",
    "#Shuffling the dataset can be accomplished by taking a random sample of the whole thing without replacement\n",
    "#Set a random state so results are repeatable\n",
    "df = df.sample(frac=1, random_state=420)\n",
    "\n",
    "tqdm.pandas(desc=\"Brrrrr\")"
   ]
  },
  {
   "cell_type": "code",
   "execution_count": 31,
   "metadata": {},
   "outputs": [],
   "source": [
    "#Pandas has a really neat apply feature that lets us do bulk processing on c style (numpy) arrays. Iterrows is another method to process an array and I will say that iterrows combined with poor time management result in some sorry sap dropping classes...\n",
    "#I take it a step further and use progress_apply (provided by tqdm) to give me a progress bar because it keeps me sane\n",
    "\n",
    "def apply_test(row, slow_factor=0):\n",
    "    time.sleep(slow_factor) #Go slow to show off progress goodness\n",
    "    return row[0]"
   ]
  },
  {
   "cell_type": "code",
   "execution_count": 26,
   "metadata": {
    "tags": []
   },
   "outputs": [
    {
     "output_type": "stream",
     "name": "stderr",
     "text": "Brrrrr:   1%|          | 34/4177 [00:00<00:12, 338.70it/s]Progress bar go\nBrrrrr: 100%|██████████| 4177/4177 [00:12<00:00, 332.31it/s]\n"
    }
   ],
   "source": [
    "#It's being cranky and messing with my meme format, but you get the idea\n",
    "print(\"Progress bar go\")\n",
    "\n",
    "sf = (1.0/len(abalone)) * 10 #make it last ~10 seconds (time.sleep isn't super accurate but its got the spirit)\n",
    "\n",
    "first = abalone.progress_apply(apply_test, axis=1, raw=True, args = (sf,))\n",
    "\n",
    "#This isn't a good example at all, but first will contain all of the values in the first column of the dataframe"
   ]
  },
  {
   "cell_type": "code",
   "execution_count": 40,
   "metadata": {},
   "outputs": [
    {
     "output_type": "execute_result",
     "data": {
      "text/plain": "     sex  length  diamter  height   whole  shucked  viscera   shell  rings\n190    M   0.615    0.480   0.180  1.1595   0.4845   0.2165  0.3250     13\n4102   M   0.680    0.545   0.185  1.6720   0.7075   0.3640  0.4800     11\n1293   I   0.520    0.400   0.130  0.5825   0.2330   0.1365  0.1800     10\n1800   M   0.605    0.475   0.175  1.2525   0.5575   0.3055  0.3430      9\n1167   M   0.620    0.470   0.135  1.0195   0.5315   0.2005  0.2475      8\n...   ..     ...      ...     ...     ...      ...      ...     ...    ...\n266    M   0.520    0.450   0.150  0.8950   0.3615   0.1860  0.2350     14\n2202   M   0.570    0.405   0.160  0.9245   0.3445   0.2185  0.2950     19\n1209   F   0.780    0.630   0.215  2.6570   1.4880   0.4985  0.5860     11\n2675   M   0.600    0.490   0.210  1.9875   1.0050   0.4190  0.4910     10\n2993   F   0.595    0.430   0.210  1.5245   0.6530   0.3960  0.4100     11\n\n[4177 rows x 9 columns]",
      "text/html": "<div>\n<style scoped>\n    .dataframe tbody tr th:only-of-type {\n        vertical-align: middle;\n    }\n\n    .dataframe tbody tr th {\n        vertical-align: top;\n    }\n\n    .dataframe thead th {\n        text-align: right;\n    }\n</style>\n<table border=\"1\" class=\"dataframe\">\n  <thead>\n    <tr style=\"text-align: right;\">\n      <th></th>\n      <th>sex</th>\n      <th>length</th>\n      <th>diamter</th>\n      <th>height</th>\n      <th>whole</th>\n      <th>shucked</th>\n      <th>viscera</th>\n      <th>shell</th>\n      <th>rings</th>\n    </tr>\n  </thead>\n  <tbody>\n    <tr>\n      <th>190</th>\n      <td>M</td>\n      <td>0.615</td>\n      <td>0.480</td>\n      <td>0.180</td>\n      <td>1.1595</td>\n      <td>0.4845</td>\n      <td>0.2165</td>\n      <td>0.3250</td>\n      <td>13</td>\n    </tr>\n    <tr>\n      <th>4102</th>\n      <td>M</td>\n      <td>0.680</td>\n      <td>0.545</td>\n      <td>0.185</td>\n      <td>1.6720</td>\n      <td>0.7075</td>\n      <td>0.3640</td>\n      <td>0.4800</td>\n      <td>11</td>\n    </tr>\n    <tr>\n      <th>1293</th>\n      <td>I</td>\n      <td>0.520</td>\n      <td>0.400</td>\n      <td>0.130</td>\n      <td>0.5825</td>\n      <td>0.2330</td>\n      <td>0.1365</td>\n      <td>0.1800</td>\n      <td>10</td>\n    </tr>\n    <tr>\n      <th>1800</th>\n      <td>M</td>\n      <td>0.605</td>\n      <td>0.475</td>\n      <td>0.175</td>\n      <td>1.2525</td>\n      <td>0.5575</td>\n      <td>0.3055</td>\n      <td>0.3430</td>\n      <td>9</td>\n    </tr>\n    <tr>\n      <th>1167</th>\n      <td>M</td>\n      <td>0.620</td>\n      <td>0.470</td>\n      <td>0.135</td>\n      <td>1.0195</td>\n      <td>0.5315</td>\n      <td>0.2005</td>\n      <td>0.2475</td>\n      <td>8</td>\n    </tr>\n    <tr>\n      <th>...</th>\n      <td>...</td>\n      <td>...</td>\n      <td>...</td>\n      <td>...</td>\n      <td>...</td>\n      <td>...</td>\n      <td>...</td>\n      <td>...</td>\n      <td>...</td>\n    </tr>\n    <tr>\n      <th>266</th>\n      <td>M</td>\n      <td>0.520</td>\n      <td>0.450</td>\n      <td>0.150</td>\n      <td>0.8950</td>\n      <td>0.3615</td>\n      <td>0.1860</td>\n      <td>0.2350</td>\n      <td>14</td>\n    </tr>\n    <tr>\n      <th>2202</th>\n      <td>M</td>\n      <td>0.570</td>\n      <td>0.405</td>\n      <td>0.160</td>\n      <td>0.9245</td>\n      <td>0.3445</td>\n      <td>0.2185</td>\n      <td>0.2950</td>\n      <td>19</td>\n    </tr>\n    <tr>\n      <th>1209</th>\n      <td>F</td>\n      <td>0.780</td>\n      <td>0.630</td>\n      <td>0.215</td>\n      <td>2.6570</td>\n      <td>1.4880</td>\n      <td>0.4985</td>\n      <td>0.5860</td>\n      <td>11</td>\n    </tr>\n    <tr>\n      <th>2675</th>\n      <td>M</td>\n      <td>0.600</td>\n      <td>0.490</td>\n      <td>0.210</td>\n      <td>1.9875</td>\n      <td>1.0050</td>\n      <td>0.4190</td>\n      <td>0.4910</td>\n      <td>10</td>\n    </tr>\n    <tr>\n      <th>2993</th>\n      <td>F</td>\n      <td>0.595</td>\n      <td>0.430</td>\n      <td>0.210</td>\n      <td>1.5245</td>\n      <td>0.6530</td>\n      <td>0.3960</td>\n      <td>0.4100</td>\n      <td>11</td>\n    </tr>\n  </tbody>\n</table>\n<p>4177 rows × 9 columns</p>\n</div>"
     },
     "metadata": {},
     "execution_count": 40
    }
   ],
   "source": [
    "#Pandas assigns a unique index to each row. Notice how the index column is all randomized\n",
    "#That's super useful for doing things like merging dataframes\n",
    "abalone"
   ]
  },
  {
   "cell_type": "code",
   "execution_count": 41,
   "metadata": {
    "tags": []
   },
   "outputs": [
    {
     "output_type": "stream",
     "name": "stdout",
     "text": "sex             M\nlength      0.615\ndiamter      0.48\nheight       0.18\nwhole      1.1595\nshucked    0.4845\nviscera    0.2165\nshell       0.325\nrings          13\nName: 190, dtype: object\nsex             M\nlength      0.615\ndiamter      0.48\nheight       0.18\nwhole      1.1595\nshucked    0.4845\nviscera    0.2165\nshell       0.325\nrings          13\nName: 190, dtype: object\n"
    }
   ],
   "source": [
    "\n",
    "\n",
    "#Pandas has two functions select a single row\n",
    "# iloc will grab the row at specific row number while loc will grab it at a specific index\n",
    "\n",
    "#In this case\n",
    "\n",
    "print(abalone.iloc[0])\n",
    "print(abalone.loc[190])\n",
    "\n",
    "#Are the same"
   ]
  },
  {
   "cell_type": "code",
   "execution_count": 42,
   "metadata": {},
   "outputs": [
    {
     "output_type": "execute_result",
     "data": {
      "text/plain": "     sex  length  diamter  height   whole  shucked  viscera   shell  rings\n0      M   0.615    0.480   0.180  1.1595   0.4845   0.2165  0.3250     13\n1      M   0.680    0.545   0.185  1.6720   0.7075   0.3640  0.4800     11\n2      I   0.520    0.400   0.130  0.5825   0.2330   0.1365  0.1800     10\n3      M   0.605    0.475   0.175  1.2525   0.5575   0.3055  0.3430      9\n4      M   0.620    0.470   0.135  1.0195   0.5315   0.2005  0.2475      8\n...   ..     ...      ...     ...     ...      ...      ...     ...    ...\n4172   M   0.520    0.450   0.150  0.8950   0.3615   0.1860  0.2350     14\n4173   M   0.570    0.405   0.160  0.9245   0.3445   0.2185  0.2950     19\n4174   F   0.780    0.630   0.215  2.6570   1.4880   0.4985  0.5860     11\n4175   M   0.600    0.490   0.210  1.9875   1.0050   0.4190  0.4910     10\n4176   F   0.595    0.430   0.210  1.5245   0.6530   0.3960  0.4100     11\n\n[4177 rows x 9 columns]",
      "text/html": "<div>\n<style scoped>\n    .dataframe tbody tr th:only-of-type {\n        vertical-align: middle;\n    }\n\n    .dataframe tbody tr th {\n        vertical-align: top;\n    }\n\n    .dataframe thead th {\n        text-align: right;\n    }\n</style>\n<table border=\"1\" class=\"dataframe\">\n  <thead>\n    <tr style=\"text-align: right;\">\n      <th></th>\n      <th>sex</th>\n      <th>length</th>\n      <th>diamter</th>\n      <th>height</th>\n      <th>whole</th>\n      <th>shucked</th>\n      <th>viscera</th>\n      <th>shell</th>\n      <th>rings</th>\n    </tr>\n  </thead>\n  <tbody>\n    <tr>\n      <th>0</th>\n      <td>M</td>\n      <td>0.615</td>\n      <td>0.480</td>\n      <td>0.180</td>\n      <td>1.1595</td>\n      <td>0.4845</td>\n      <td>0.2165</td>\n      <td>0.3250</td>\n      <td>13</td>\n    </tr>\n    <tr>\n      <th>1</th>\n      <td>M</td>\n      <td>0.680</td>\n      <td>0.545</td>\n      <td>0.185</td>\n      <td>1.6720</td>\n      <td>0.7075</td>\n      <td>0.3640</td>\n      <td>0.4800</td>\n      <td>11</td>\n    </tr>\n    <tr>\n      <th>2</th>\n      <td>I</td>\n      <td>0.520</td>\n      <td>0.400</td>\n      <td>0.130</td>\n      <td>0.5825</td>\n      <td>0.2330</td>\n      <td>0.1365</td>\n      <td>0.1800</td>\n      <td>10</td>\n    </tr>\n    <tr>\n      <th>3</th>\n      <td>M</td>\n      <td>0.605</td>\n      <td>0.475</td>\n      <td>0.175</td>\n      <td>1.2525</td>\n      <td>0.5575</td>\n      <td>0.3055</td>\n      <td>0.3430</td>\n      <td>9</td>\n    </tr>\n    <tr>\n      <th>4</th>\n      <td>M</td>\n      <td>0.620</td>\n      <td>0.470</td>\n      <td>0.135</td>\n      <td>1.0195</td>\n      <td>0.5315</td>\n      <td>0.2005</td>\n      <td>0.2475</td>\n      <td>8</td>\n    </tr>\n    <tr>\n      <th>...</th>\n      <td>...</td>\n      <td>...</td>\n      <td>...</td>\n      <td>...</td>\n      <td>...</td>\n      <td>...</td>\n      <td>...</td>\n      <td>...</td>\n      <td>...</td>\n    </tr>\n    <tr>\n      <th>4172</th>\n      <td>M</td>\n      <td>0.520</td>\n      <td>0.450</td>\n      <td>0.150</td>\n      <td>0.8950</td>\n      <td>0.3615</td>\n      <td>0.1860</td>\n      <td>0.2350</td>\n      <td>14</td>\n    </tr>\n    <tr>\n      <th>4173</th>\n      <td>M</td>\n      <td>0.570</td>\n      <td>0.405</td>\n      <td>0.160</td>\n      <td>0.9245</td>\n      <td>0.3445</td>\n      <td>0.2185</td>\n      <td>0.2950</td>\n      <td>19</td>\n    </tr>\n    <tr>\n      <th>4174</th>\n      <td>F</td>\n      <td>0.780</td>\n      <td>0.630</td>\n      <td>0.215</td>\n      <td>2.6570</td>\n      <td>1.4880</td>\n      <td>0.4985</td>\n      <td>0.5860</td>\n      <td>11</td>\n    </tr>\n    <tr>\n      <th>4175</th>\n      <td>M</td>\n      <td>0.600</td>\n      <td>0.490</td>\n      <td>0.210</td>\n      <td>1.9875</td>\n      <td>1.0050</td>\n      <td>0.4190</td>\n      <td>0.4910</td>\n      <td>10</td>\n    </tr>\n    <tr>\n      <th>4176</th>\n      <td>F</td>\n      <td>0.595</td>\n      <td>0.430</td>\n      <td>0.210</td>\n      <td>1.5245</td>\n      <td>0.6530</td>\n      <td>0.3960</td>\n      <td>0.4100</td>\n      <td>11</td>\n    </tr>\n  </tbody>\n</table>\n<p>4177 rows × 9 columns</p>\n</div>"
     },
     "metadata": {},
     "execution_count": 42
    }
   ],
   "source": [
    "#I like to reset the index after I shuffle because I consider the shuffled dataframe the starting one\n",
    "abalone = abalone.reset_index(drop=True) #drop=True means don't add the old index as a column\n",
    "abalone"
   ]
  },
  {
   "cell_type": "code",
   "execution_count": 49,
   "metadata": {},
   "outputs": [
    {
     "output_type": "execute_result",
     "data": {
      "text/plain": "        length   diamter    height     whole   shucked   viscera     shell  \\\n190   0.757812  0.726711  0.967881  0.674481  0.563754  0.327570  0.619019   \n4102  1.299060  1.381690  1.087421  1.719569  1.568426  1.673198  1.732504   \n1293 -0.033242 -0.079416 -0.227518 -0.502136 -0.569318 -0.402262 -0.422627   \n1800  0.674544  0.676328  0.848341  0.864126  0.892638  1.139509  0.748327   \n1167  0.799447  0.625945 -0.107978  0.388993  0.775501  0.181604  0.062277   \n...        ...       ...       ...       ...       ...       ...       ...   \n266  -0.033242  0.424414  0.250642  0.135113  0.009608  0.049322 -0.027520   \n2202  0.383103 -0.029033  0.489721  0.195269 -0.066982  0.345816  0.403506   \n1209  2.131749  2.238201  1.804660  3.728179  5.084779  2.900229  2.493983   \n2675  0.632909  0.827477  1.685120  2.362936  2.908740  2.174958  1.811525   \n2993  0.591275  0.222882  1.685120  1.418788  1.322890  1.965131  1.229640   \n\n         rings  \n190   0.951041  \n4102  0.330726  \n1293  0.020568  \n1800 -0.289589  \n1167 -0.599747  \n...        ...  \n266   1.261198  \n2202  2.811985  \n1209  0.330726  \n2675  0.020568  \n2993  0.330726  \n\n[4177 rows x 8 columns]",
      "text/html": "<div>\n<style scoped>\n    .dataframe tbody tr th:only-of-type {\n        vertical-align: middle;\n    }\n\n    .dataframe tbody tr th {\n        vertical-align: top;\n    }\n\n    .dataframe thead th {\n        text-align: right;\n    }\n</style>\n<table border=\"1\" class=\"dataframe\">\n  <thead>\n    <tr style=\"text-align: right;\">\n      <th></th>\n      <th>length</th>\n      <th>diamter</th>\n      <th>height</th>\n      <th>whole</th>\n      <th>shucked</th>\n      <th>viscera</th>\n      <th>shell</th>\n      <th>rings</th>\n    </tr>\n  </thead>\n  <tbody>\n    <tr>\n      <th>190</th>\n      <td>0.757812</td>\n      <td>0.726711</td>\n      <td>0.967881</td>\n      <td>0.674481</td>\n      <td>0.563754</td>\n      <td>0.327570</td>\n      <td>0.619019</td>\n      <td>0.951041</td>\n    </tr>\n    <tr>\n      <th>4102</th>\n      <td>1.299060</td>\n      <td>1.381690</td>\n      <td>1.087421</td>\n      <td>1.719569</td>\n      <td>1.568426</td>\n      <td>1.673198</td>\n      <td>1.732504</td>\n      <td>0.330726</td>\n    </tr>\n    <tr>\n      <th>1293</th>\n      <td>-0.033242</td>\n      <td>-0.079416</td>\n      <td>-0.227518</td>\n      <td>-0.502136</td>\n      <td>-0.569318</td>\n      <td>-0.402262</td>\n      <td>-0.422627</td>\n      <td>0.020568</td>\n    </tr>\n    <tr>\n      <th>1800</th>\n      <td>0.674544</td>\n      <td>0.676328</td>\n      <td>0.848341</td>\n      <td>0.864126</td>\n      <td>0.892638</td>\n      <td>1.139509</td>\n      <td>0.748327</td>\n      <td>-0.289589</td>\n    </tr>\n    <tr>\n      <th>1167</th>\n      <td>0.799447</td>\n      <td>0.625945</td>\n      <td>-0.107978</td>\n      <td>0.388993</td>\n      <td>0.775501</td>\n      <td>0.181604</td>\n      <td>0.062277</td>\n      <td>-0.599747</td>\n    </tr>\n    <tr>\n      <th>...</th>\n      <td>...</td>\n      <td>...</td>\n      <td>...</td>\n      <td>...</td>\n      <td>...</td>\n      <td>...</td>\n      <td>...</td>\n      <td>...</td>\n    </tr>\n    <tr>\n      <th>266</th>\n      <td>-0.033242</td>\n      <td>0.424414</td>\n      <td>0.250642</td>\n      <td>0.135113</td>\n      <td>0.009608</td>\n      <td>0.049322</td>\n      <td>-0.027520</td>\n      <td>1.261198</td>\n    </tr>\n    <tr>\n      <th>2202</th>\n      <td>0.383103</td>\n      <td>-0.029033</td>\n      <td>0.489721</td>\n      <td>0.195269</td>\n      <td>-0.066982</td>\n      <td>0.345816</td>\n      <td>0.403506</td>\n      <td>2.811985</td>\n    </tr>\n    <tr>\n      <th>1209</th>\n      <td>2.131749</td>\n      <td>2.238201</td>\n      <td>1.804660</td>\n      <td>3.728179</td>\n      <td>5.084779</td>\n      <td>2.900229</td>\n      <td>2.493983</td>\n      <td>0.330726</td>\n    </tr>\n    <tr>\n      <th>2675</th>\n      <td>0.632909</td>\n      <td>0.827477</td>\n      <td>1.685120</td>\n      <td>2.362936</td>\n      <td>2.908740</td>\n      <td>2.174958</td>\n      <td>1.811525</td>\n      <td>0.020568</td>\n    </tr>\n    <tr>\n      <th>2993</th>\n      <td>0.591275</td>\n      <td>0.222882</td>\n      <td>1.685120</td>\n      <td>1.418788</td>\n      <td>1.322890</td>\n      <td>1.965131</td>\n      <td>1.229640</td>\n      <td>0.330726</td>\n    </tr>\n  </tbody>\n</table>\n<p>4177 rows × 8 columns</p>\n</div>"
     },
     "metadata": {},
     "execution_count": 49
    }
   ],
   "source": [
    "#We're going to want to normalize our dataset before we use it otherwise larger units tend to dominate the results\n",
    "#One way to normalize is to calculate a Z-Score for each value. This works really well assuming that the data is normally distributed\n",
    "\n",
    "#One of the columns in the dataset isn't numeric, so I will only include the numeric columns in this example\n",
    "numeric_cols = metadata[\"abalone\"][\"names\"][:] #Deep copy because lists are pointers in python. Otherwise this cell will break if run twice\n",
    "numeric_cols.remove(\"sex\")\n",
    "\n",
    "\n",
    "normed_abalone = (abalone[numeric_cols] - abalone[numeric_cols].mean())/abalone[numeric_cols].std()\n",
    "normed_abalone"
   ]
  },
  {
   "cell_type": "code",
   "execution_count": 42,
   "metadata": {},
   "outputs": [
    {
     "output_type": "display_data",
     "data": {
      "text/plain": "<Figure size 432x288 with 1 Axes>",
      "image/svg+xml": "<?xml version=\"1.0\" encoding=\"utf-8\" standalone=\"no\"?>\n<!DOCTYPE svg PUBLIC \"-//W3C//DTD SVG 1.1//EN\"\n  \"http://www.w3.org/Graphics/SVG/1.1/DTD/svg11.dtd\">\n<!-- Created with matplotlib (https://matplotlib.org/) -->\n<svg height=\"248.518125pt\" version=\"1.1\" viewBox=\"0 0 375.2875 248.518125\" width=\"375.2875pt\" xmlns=\"http://www.w3.org/2000/svg\" xmlns:xlink=\"http://www.w3.org/1999/xlink\">\n <metadata>\n  <rdf:RDF xmlns:cc=\"http://creativecommons.org/ns#\" xmlns:dc=\"http://purl.org/dc/elements/1.1/\" xmlns:rdf=\"http://www.w3.org/1999/02/22-rdf-syntax-ns#\">\n   <cc:Work>\n    <dc:type rdf:resource=\"http://purl.org/dc/dcmitype/StillImage\"/>\n    <dc:date>2020-08-21T10:06:39.704360</dc:date>\n    <dc:format>image/svg+xml</dc:format>\n    <dc:creator>\n     <cc:Agent>\n      <dc:title>Matplotlib v3.3.1, https://matplotlib.org/</dc:title>\n     </cc:Agent>\n    </dc:creator>\n   </cc:Work>\n  </rdf:RDF>\n </metadata>\n <defs>\n  <style type=\"text/css\">*{stroke-linecap:butt;stroke-linejoin:round;}</style>\n </defs>\n <g id=\"figure_1\">\n  <g id=\"patch_1\">\n   <path d=\"M 0 248.518125 \nL 375.2875 248.518125 \nL 375.2875 0 \nL 0 0 \nz\n\" style=\"fill:none;\"/>\n  </g>\n  <g id=\"axes_1\">\n   <g id=\"patch_2\">\n    <path d=\"M 33.2875 224.64 \nL 368.0875 224.64 \nL 368.0875 7.2 \nL 33.2875 7.2 \nz\n\" style=\"fill:#ffffff;\"/>\n   </g>\n   <g id=\"patch_3\">\n    <path clip-path=\"url(#pfba46ac3c9)\" d=\"M 48.505682 224.64 \nL 124.596591 224.64 \nL 124.596591 17.554286 \nL 48.505682 17.554286 \nz\n\" style=\"fill:#1f77b4;opacity:0.5;\"/>\n   </g>\n   <g id=\"patch_4\">\n    <path clip-path=\"url(#pfba46ac3c9)\" d=\"M 124.596591 224.64 \nL 200.6875 224.64 \nL 200.6875 220.432841 \nL 124.596591 220.432841 \nz\n\" style=\"fill:#1f77b4;opacity:0.5;\"/>\n   </g>\n   <g id=\"patch_5\">\n    <path clip-path=\"url(#pfba46ac3c9)\" d=\"M 200.6875 224.64 \nL 276.778409 224.64 \nL 276.778409 222.770152 \nL 200.6875 222.770152 \nz\n\" style=\"fill:#1f77b4;opacity:0.5;\"/>\n   </g>\n   <g id=\"patch_6\">\n    <path clip-path=\"url(#pfba46ac3c9)\" d=\"M 276.778409 224.64 \nL 352.869318 224.64 \nL 352.869318 223.705076 \nL 276.778409 223.705076 \nz\n\" style=\"fill:#1f77b4;opacity:0.5;\"/>\n   </g>\n   <g id=\"patch_7\">\n    <path clip-path=\"url(#pfba46ac3c9)\" d=\"M 48.505682 224.64 \nL 124.596591 224.64 \nL 124.596591 187.243031 \nL 48.505682 187.243031 \nz\n\" style=\"fill:#ff7f0e;opacity:0.5;\"/>\n   </g>\n   <g id=\"patch_8\">\n    <path clip-path=\"url(#pfba46ac3c9)\" d=\"M 124.596591 224.64 \nL 200.6875 224.64 \nL 200.6875 202.669281 \nL 124.596591 202.669281 \nz\n\" style=\"fill:#ff7f0e;opacity:0.5;\"/>\n   </g>\n   <g id=\"patch_9\">\n    <path clip-path=\"url(#pfba46ac3c9)\" d=\"M 200.6875 224.64 \nL 276.778409 224.64 \nL 276.778409 210.148675 \nL 200.6875 210.148675 \nz\n\" style=\"fill:#ff7f0e;opacity:0.5;\"/>\n   </g>\n   <g id=\"patch_10\">\n    <path clip-path=\"url(#pfba46ac3c9)\" d=\"M 276.778409 224.64 \nL 352.869318 224.64 \nL 352.869318 185.840645 \nL 276.778409 185.840645 \nz\n\" style=\"fill:#ff7f0e;opacity:0.5;\"/>\n   </g>\n   <g id=\"matplotlib.axis_1\">\n    <g id=\"xtick_1\">\n     <g id=\"line2d_1\">\n      <defs>\n       <path d=\"M 0 0 \nL 0 3.5 \n\" id=\"mbfdc8cc752\" style=\"stroke:#000000;stroke-width:0.8;\"/>\n      </defs>\n      <g>\n       <use style=\"stroke:#000000;stroke-width:0.8;\" x=\"82.323864\" xlink:href=\"#mbfdc8cc752\" y=\"224.64\"/>\n      </g>\n     </g>\n     <g id=\"text_1\">\n      <!-- 2 -->\n      <g transform=\"translate(79.142614 239.238438)scale(0.1 -0.1)\">\n       <defs>\n        <path d=\"M 19.1875 8.296875 \nL 53.609375 8.296875 \nL 53.609375 0 \nL 7.328125 0 \nL 7.328125 8.296875 \nQ 12.9375 14.109375 22.625 23.890625 \nQ 32.328125 33.6875 34.8125 36.53125 \nQ 39.546875 41.84375 41.421875 45.53125 \nQ 43.3125 49.21875 43.3125 52.78125 \nQ 43.3125 58.59375 39.234375 62.25 \nQ 35.15625 65.921875 28.609375 65.921875 \nQ 23.96875 65.921875 18.8125 64.3125 \nQ 13.671875 62.703125 7.8125 59.421875 \nL 7.8125 69.390625 \nQ 13.765625 71.78125 18.9375 73 \nQ 24.125 74.21875 28.421875 74.21875 \nQ 39.75 74.21875 46.484375 68.546875 \nQ 53.21875 62.890625 53.21875 53.421875 \nQ 53.21875 48.921875 51.53125 44.890625 \nQ 49.859375 40.875 45.40625 35.40625 \nQ 44.1875 33.984375 37.640625 27.21875 \nQ 31.109375 20.453125 19.1875 8.296875 \nz\n\" id=\"DejaVuSans-50\"/>\n       </defs>\n       <use xlink:href=\"#DejaVuSans-50\"/>\n      </g>\n     </g>\n    </g>\n    <g id=\"xtick_2\">\n     <g id=\"line2d_2\">\n      <g>\n       <use style=\"stroke:#000000;stroke-width:0.8;\" x=\"149.960227\" xlink:href=\"#mbfdc8cc752\" y=\"224.64\"/>\n      </g>\n     </g>\n     <g id=\"text_2\">\n      <!-- 4 -->\n      <g transform=\"translate(146.778977 239.238438)scale(0.1 -0.1)\">\n       <defs>\n        <path d=\"M 37.796875 64.3125 \nL 12.890625 25.390625 \nL 37.796875 25.390625 \nz\nM 35.203125 72.90625 \nL 47.609375 72.90625 \nL 47.609375 25.390625 \nL 58.015625 25.390625 \nL 58.015625 17.1875 \nL 47.609375 17.1875 \nL 47.609375 0 \nL 37.796875 0 \nL 37.796875 17.1875 \nL 4.890625 17.1875 \nL 4.890625 26.703125 \nz\n\" id=\"DejaVuSans-52\"/>\n       </defs>\n       <use xlink:href=\"#DejaVuSans-52\"/>\n      </g>\n     </g>\n    </g>\n    <g id=\"xtick_3\">\n     <g id=\"line2d_3\">\n      <g>\n       <use style=\"stroke:#000000;stroke-width:0.8;\" x=\"217.596591\" xlink:href=\"#mbfdc8cc752\" y=\"224.64\"/>\n      </g>\n     </g>\n     <g id=\"text_3\">\n      <!-- 6 -->\n      <g transform=\"translate(214.415341 239.238438)scale(0.1 -0.1)\">\n       <defs>\n        <path d=\"M 33.015625 40.375 \nQ 26.375 40.375 22.484375 35.828125 \nQ 18.609375 31.296875 18.609375 23.390625 \nQ 18.609375 15.53125 22.484375 10.953125 \nQ 26.375 6.390625 33.015625 6.390625 \nQ 39.65625 6.390625 43.53125 10.953125 \nQ 47.40625 15.53125 47.40625 23.390625 \nQ 47.40625 31.296875 43.53125 35.828125 \nQ 39.65625 40.375 33.015625 40.375 \nz\nM 52.59375 71.296875 \nL 52.59375 62.3125 \nQ 48.875 64.0625 45.09375 64.984375 \nQ 41.3125 65.921875 37.59375 65.921875 \nQ 27.828125 65.921875 22.671875 59.328125 \nQ 17.53125 52.734375 16.796875 39.40625 \nQ 19.671875 43.65625 24.015625 45.921875 \nQ 28.375 48.1875 33.59375 48.1875 \nQ 44.578125 48.1875 50.953125 41.515625 \nQ 57.328125 34.859375 57.328125 23.390625 \nQ 57.328125 12.15625 50.6875 5.359375 \nQ 44.046875 -1.421875 33.015625 -1.421875 \nQ 20.359375 -1.421875 13.671875 8.265625 \nQ 6.984375 17.96875 6.984375 36.375 \nQ 6.984375 53.65625 15.1875 63.9375 \nQ 23.390625 74.21875 37.203125 74.21875 \nQ 40.921875 74.21875 44.703125 73.484375 \nQ 48.484375 72.75 52.59375 71.296875 \nz\n\" id=\"DejaVuSans-54\"/>\n       </defs>\n       <use xlink:href=\"#DejaVuSans-54\"/>\n      </g>\n     </g>\n    </g>\n    <g id=\"xtick_4\">\n     <g id=\"line2d_4\">\n      <g>\n       <use style=\"stroke:#000000;stroke-width:0.8;\" x=\"285.232955\" xlink:href=\"#mbfdc8cc752\" y=\"224.64\"/>\n      </g>\n     </g>\n     <g id=\"text_4\">\n      <!-- 8 -->\n      <g transform=\"translate(282.051705 239.238438)scale(0.1 -0.1)\">\n       <defs>\n        <path d=\"M 31.78125 34.625 \nQ 24.75 34.625 20.71875 30.859375 \nQ 16.703125 27.09375 16.703125 20.515625 \nQ 16.703125 13.921875 20.71875 10.15625 \nQ 24.75 6.390625 31.78125 6.390625 \nQ 38.8125 6.390625 42.859375 10.171875 \nQ 46.921875 13.96875 46.921875 20.515625 \nQ 46.921875 27.09375 42.890625 30.859375 \nQ 38.875 34.625 31.78125 34.625 \nz\nM 21.921875 38.8125 \nQ 15.578125 40.375 12.03125 44.71875 \nQ 8.5 49.078125 8.5 55.328125 \nQ 8.5 64.0625 14.71875 69.140625 \nQ 20.953125 74.21875 31.78125 74.21875 \nQ 42.671875 74.21875 48.875 69.140625 \nQ 55.078125 64.0625 55.078125 55.328125 \nQ 55.078125 49.078125 51.53125 44.71875 \nQ 48 40.375 41.703125 38.8125 \nQ 48.828125 37.15625 52.796875 32.3125 \nQ 56.78125 27.484375 56.78125 20.515625 \nQ 56.78125 9.90625 50.3125 4.234375 \nQ 43.84375 -1.421875 31.78125 -1.421875 \nQ 19.734375 -1.421875 13.25 4.234375 \nQ 6.78125 9.90625 6.78125 20.515625 \nQ 6.78125 27.484375 10.78125 32.3125 \nQ 14.796875 37.15625 21.921875 38.8125 \nz\nM 18.3125 54.390625 \nQ 18.3125 48.734375 21.84375 45.5625 \nQ 25.390625 42.390625 31.78125 42.390625 \nQ 38.140625 42.390625 41.71875 45.5625 \nQ 45.3125 48.734375 45.3125 54.390625 \nQ 45.3125 60.0625 41.71875 63.234375 \nQ 38.140625 66.40625 31.78125 66.40625 \nQ 25.390625 66.40625 21.84375 63.234375 \nQ 18.3125 60.0625 18.3125 54.390625 \nz\n\" id=\"DejaVuSans-56\"/>\n       </defs>\n       <use xlink:href=\"#DejaVuSans-56\"/>\n      </g>\n     </g>\n    </g>\n    <g id=\"xtick_5\">\n     <g id=\"line2d_5\">\n      <g>\n       <use style=\"stroke:#000000;stroke-width:0.8;\" x=\"352.869318\" xlink:href=\"#mbfdc8cc752\" y=\"224.64\"/>\n      </g>\n     </g>\n     <g id=\"text_5\">\n      <!-- 10 -->\n      <g transform=\"translate(346.506818 239.238438)scale(0.1 -0.1)\">\n       <defs>\n        <path d=\"M 12.40625 8.296875 \nL 28.515625 8.296875 \nL 28.515625 63.921875 \nL 10.984375 60.40625 \nL 10.984375 69.390625 \nL 28.421875 72.90625 \nL 38.28125 72.90625 \nL 38.28125 8.296875 \nL 54.390625 8.296875 \nL 54.390625 0 \nL 12.40625 0 \nz\n\" id=\"DejaVuSans-49\"/>\n        <path d=\"M 31.78125 66.40625 \nQ 24.171875 66.40625 20.328125 58.90625 \nQ 16.5 51.421875 16.5 36.375 \nQ 16.5 21.390625 20.328125 13.890625 \nQ 24.171875 6.390625 31.78125 6.390625 \nQ 39.453125 6.390625 43.28125 13.890625 \nQ 47.125 21.390625 47.125 36.375 \nQ 47.125 51.421875 43.28125 58.90625 \nQ 39.453125 66.40625 31.78125 66.40625 \nz\nM 31.78125 74.21875 \nQ 44.046875 74.21875 50.515625 64.515625 \nQ 56.984375 54.828125 56.984375 36.375 \nQ 56.984375 17.96875 50.515625 8.265625 \nQ 44.046875 -1.421875 31.78125 -1.421875 \nQ 19.53125 -1.421875 13.0625 8.265625 \nQ 6.59375 17.96875 6.59375 36.375 \nQ 6.59375 54.828125 13.0625 64.515625 \nQ 19.53125 74.21875 31.78125 74.21875 \nz\n\" id=\"DejaVuSans-48\"/>\n       </defs>\n       <use xlink:href=\"#DejaVuSans-49\"/>\n       <use x=\"63.623047\" xlink:href=\"#DejaVuSans-48\"/>\n      </g>\n     </g>\n    </g>\n   </g>\n   <g id=\"matplotlib.axis_2\">\n    <g id=\"ytick_1\">\n     <g id=\"line2d_6\">\n      <defs>\n       <path d=\"M 0 0 \nL -3.5 0 \n\" id=\"m4ceac8d900\" style=\"stroke:#000000;stroke-width:0.8;\"/>\n      </defs>\n      <g>\n       <use style=\"stroke:#000000;stroke-width:0.8;\" x=\"33.2875\" xlink:href=\"#m4ceac8d900\" y=\"224.64\"/>\n      </g>\n     </g>\n     <g id=\"text_6\">\n      <!-- 0 -->\n      <g transform=\"translate(19.925 228.439219)scale(0.1 -0.1)\">\n       <use xlink:href=\"#DejaVuSans-48\"/>\n      </g>\n     </g>\n    </g>\n    <g id=\"ytick_2\">\n     <g id=\"line2d_7\">\n      <g>\n       <use style=\"stroke:#000000;stroke-width:0.8;\" x=\"33.2875\" xlink:href=\"#m4ceac8d900\" y=\"177.893789\"/>\n      </g>\n     </g>\n     <g id=\"text_7\">\n      <!-- 100 -->\n      <g transform=\"translate(7.2 181.693008)scale(0.1 -0.1)\">\n       <use xlink:href=\"#DejaVuSans-49\"/>\n       <use x=\"63.623047\" xlink:href=\"#DejaVuSans-48\"/>\n       <use x=\"127.246094\" xlink:href=\"#DejaVuSans-48\"/>\n      </g>\n     </g>\n    </g>\n    <g id=\"ytick_3\">\n     <g id=\"line2d_8\">\n      <g>\n       <use style=\"stroke:#000000;stroke-width:0.8;\" x=\"33.2875\" xlink:href=\"#m4ceac8d900\" y=\"131.147578\"/>\n      </g>\n     </g>\n     <g id=\"text_8\">\n      <!-- 200 -->\n      <g transform=\"translate(7.2 134.946797)scale(0.1 -0.1)\">\n       <use xlink:href=\"#DejaVuSans-50\"/>\n       <use x=\"63.623047\" xlink:href=\"#DejaVuSans-48\"/>\n       <use x=\"127.246094\" xlink:href=\"#DejaVuSans-48\"/>\n      </g>\n     </g>\n    </g>\n    <g id=\"ytick_4\">\n     <g id=\"line2d_9\">\n      <g>\n       <use style=\"stroke:#000000;stroke-width:0.8;\" x=\"33.2875\" xlink:href=\"#m4ceac8d900\" y=\"84.401367\"/>\n      </g>\n     </g>\n     <g id=\"text_9\">\n      <!-- 300 -->\n      <g transform=\"translate(7.2 88.200586)scale(0.1 -0.1)\">\n       <defs>\n        <path d=\"M 40.578125 39.3125 \nQ 47.65625 37.796875 51.625 33 \nQ 55.609375 28.21875 55.609375 21.1875 \nQ 55.609375 10.40625 48.1875 4.484375 \nQ 40.765625 -1.421875 27.09375 -1.421875 \nQ 22.515625 -1.421875 17.65625 -0.515625 \nQ 12.796875 0.390625 7.625 2.203125 \nL 7.625 11.71875 \nQ 11.71875 9.328125 16.59375 8.109375 \nQ 21.484375 6.890625 26.8125 6.890625 \nQ 36.078125 6.890625 40.9375 10.546875 \nQ 45.796875 14.203125 45.796875 21.1875 \nQ 45.796875 27.640625 41.28125 31.265625 \nQ 36.765625 34.90625 28.71875 34.90625 \nL 20.21875 34.90625 \nL 20.21875 43.015625 \nL 29.109375 43.015625 \nQ 36.375 43.015625 40.234375 45.921875 \nQ 44.09375 48.828125 44.09375 54.296875 \nQ 44.09375 59.90625 40.109375 62.90625 \nQ 36.140625 65.921875 28.71875 65.921875 \nQ 24.65625 65.921875 20.015625 65.03125 \nQ 15.375 64.15625 9.8125 62.3125 \nL 9.8125 71.09375 \nQ 15.4375 72.65625 20.34375 73.4375 \nQ 25.25 74.21875 29.59375 74.21875 \nQ 40.828125 74.21875 47.359375 69.109375 \nQ 53.90625 64.015625 53.90625 55.328125 \nQ 53.90625 49.265625 50.4375 45.09375 \nQ 46.96875 40.921875 40.578125 39.3125 \nz\n\" id=\"DejaVuSans-51\"/>\n       </defs>\n       <use xlink:href=\"#DejaVuSans-51\"/>\n       <use x=\"63.623047\" xlink:href=\"#DejaVuSans-48\"/>\n       <use x=\"127.246094\" xlink:href=\"#DejaVuSans-48\"/>\n      </g>\n     </g>\n    </g>\n    <g id=\"ytick_5\">\n     <g id=\"line2d_10\">\n      <g>\n       <use style=\"stroke:#000000;stroke-width:0.8;\" x=\"33.2875\" xlink:href=\"#m4ceac8d900\" y=\"37.655156\"/>\n      </g>\n     </g>\n     <g id=\"text_10\">\n      <!-- 400 -->\n      <g transform=\"translate(7.2 41.454375)scale(0.1 -0.1)\">\n       <use xlink:href=\"#DejaVuSans-52\"/>\n       <use x=\"63.623047\" xlink:href=\"#DejaVuSans-48\"/>\n       <use x=\"127.246094\" xlink:href=\"#DejaVuSans-48\"/>\n      </g>\n     </g>\n    </g>\n   </g>\n   <g id=\"patch_11\">\n    <path d=\"M 33.2875 224.64 \nL 33.2875 7.2 \n\" style=\"fill:none;stroke:#000000;stroke-linecap:square;stroke-linejoin:miter;stroke-width:0.8;\"/>\n   </g>\n   <g id=\"patch_12\">\n    <path d=\"M 368.0875 224.64 \nL 368.0875 7.2 \n\" style=\"fill:none;stroke:#000000;stroke-linecap:square;stroke-linejoin:miter;stroke-width:0.8;\"/>\n   </g>\n   <g id=\"patch_13\">\n    <path d=\"M 33.2875 224.64 \nL 368.0875 224.64 \n\" style=\"fill:none;stroke:#000000;stroke-linecap:square;stroke-linejoin:miter;stroke-width:0.8;\"/>\n   </g>\n   <g id=\"patch_14\">\n    <path d=\"M 33.2875 7.2 \nL 368.0875 7.2 \n\" style=\"fill:none;stroke:#000000;stroke-linecap:square;stroke-linejoin:miter;stroke-width:0.8;\"/>\n   </g>\n   <g id=\"legend_1\">\n    <g id=\"patch_15\">\n     <path d=\"M 322.725 44.55625 \nL 361.0875 44.55625 \nQ 363.0875 44.55625 363.0875 42.55625 \nL 363.0875 14.2 \nQ 363.0875 12.2 361.0875 12.2 \nL 322.725 12.2 \nQ 320.725 12.2 320.725 14.2 \nL 320.725 42.55625 \nQ 320.725 44.55625 322.725 44.55625 \nz\n\" style=\"fill:#ffffff;opacity:0.8;stroke:#cccccc;stroke-linejoin:miter;\"/>\n    </g>\n    <g id=\"patch_16\">\n     <path d=\"M 324.725 23.798437 \nL 344.725 23.798437 \nL 344.725 16.798437 \nL 324.725 16.798437 \nz\n\" style=\"fill:#1f77b4;opacity:0.5;\"/>\n    </g>\n    <g id=\"text_11\">\n     <!-- 2 -->\n     <g transform=\"translate(352.725 23.798437)scale(0.1 -0.1)\">\n      <use xlink:href=\"#DejaVuSans-50\"/>\n     </g>\n    </g>\n    <g id=\"patch_17\">\n     <path d=\"M 324.725 38.476562 \nL 344.725 38.476562 \nL 344.725 31.476562 \nL 324.725 31.476562 \nz\n\" style=\"fill:#ff7f0e;opacity:0.5;\"/>\n    </g>\n    <g id=\"text_12\">\n     <!-- 4 -->\n     <g transform=\"translate(352.725 38.476562)scale(0.1 -0.1)\">\n      <use xlink:href=\"#DejaVuSans-52\"/>\n     </g>\n    </g>\n   </g>\n  </g>\n </g>\n <defs>\n  <clipPath id=\"pfba46ac3c9\">\n   <rect height=\"217.44\" width=\"334.8\" x=\"33.2875\" y=\"7.2\"/>\n  </clipPath>\n </defs>\n</svg>\n",
      "image/png": "[encoded data removed]"
     },
     "metadata": {
      "needs_background": "light"
     }
    },
    {
     "output_type": "execute_result",
     "data": {
      "text/plain": "array([4, 2])"
     },
     "metadata": {},
     "execution_count": 42
    }
   ],
   "source": [
    "#Pandas Dataframes are essentially a dictionary of numpy arrays. The key is the column name\n",
    "#This means we can toss a pandas column anywhere that takes a numpy array\n",
    "test_col = \"marginalAdhesion\"\n",
    "bins = np.histogram_bin_edges(df[test_col], bins=4)\n",
    "plt.hist(df[df[\"class\"]==2][test_col], bins=bins, alpha=0.5, label=\"2\")\n",
    "plt.hist(df[df[\"class\"]==4][test_col], bins=bins, alpha=0.5, label=\"4\")\n",
    "plt.legend()\n",
    "plt.show()\n",
    "df[\"class\"].unique()\n",
    "# plt.violinplot(abalone[\"rings\"])\n",
    "# plt.scatter(abalone[\"length\"], abalone[\"rings\"])"
   ]
  },
  {
   "cell_type": "markdown",
   "metadata": {},
   "source": [
    "# Example Discritzer Use"
   ]
  },
  {
   "cell_type": "code",
   "execution_count": 2,
   "metadata": {},
   "outputs": [
    {
     "output_type": "error",
     "ename": "UntrainedUtilityError",
     "evalue": "A BinDiscritzer utility is trying to fit data without being trained",
     "traceback": [
      "\u001b[0;31m---------------------------------------------------------------------------\u001b[0m",
      "\u001b[0;31mUntrainedUtilityError\u001b[0m                     Traceback (most recent call last)",
      "\u001b[0;32m<ipython-input-2-1243ba47c145>\u001b[0m in \u001b[0;36m<module>\u001b[0;34m\u001b[0m\n\u001b[1;32m      9\u001b[0m \u001b[0;31m# discrete = bd.train_fit()\u001b[0m\u001b[0;34m\u001b[0m\u001b[0;34m\u001b[0m\u001b[0;34m\u001b[0m\u001b[0m\n\u001b[1;32m     10\u001b[0m \u001b[0;34m\u001b[0m\u001b[0m\n\u001b[0;32m---> 11\u001b[0;31m \u001b[0mtest_discrete\u001b[0m \u001b[0;34m=\u001b[0m \u001b[0mbd\u001b[0m\u001b[0;34m.\u001b[0m\u001b[0mfit\u001b[0m\u001b[0;34m(\u001b[0m\u001b[0mtest\u001b[0m\u001b[0;34m[\u001b[0m\u001b[0;34m\"marginalAdhesion\"\u001b[0m\u001b[0;34m]\u001b[0m\u001b[0;34m)\u001b[0m\u001b[0;34m\u001b[0m\u001b[0;34m\u001b[0m\u001b[0m\n\u001b[0m\u001b[1;32m     12\u001b[0m \u001b[0;34m\u001b[0m\u001b[0m\n\u001b[1;32m     13\u001b[0m \u001b[0mplt\u001b[0m\u001b[0;34m.\u001b[0m\u001b[0mhist\u001b[0m\u001b[0;34m(\u001b[0m\u001b[0mdiscrete\u001b[0m\u001b[0;34m,\u001b[0m \u001b[0malpha\u001b[0m\u001b[0;34m=\u001b[0m\u001b[0;36m0.5\u001b[0m\u001b[0;34m,\u001b[0m \u001b[0mlabel\u001b[0m\u001b[0;34m=\u001b[0m\u001b[0;34m\"Test\"\u001b[0m\u001b[0;34m,\u001b[0m \u001b[0mdensity\u001b[0m\u001b[0;34m=\u001b[0m\u001b[0;32mTrue\u001b[0m\u001b[0;34m)\u001b[0m \u001b[0;31m#Density scales the histogram so that the area sums to 1\u001b[0m\u001b[0;34m\u001b[0m\u001b[0;34m\u001b[0m\u001b[0m\n",
      "\u001b[0;32m/mnt/c/Users/Andrew/School/CSCI 447/CSCI-447/MLAlgorithms/Utils/BinDiscretizer.py\u001b[0m in \u001b[0;36mfit\u001b[0;34m(self, data)\u001b[0m\n\u001b[1;32m     57\u001b[0m         \u001b[0;32melse\u001b[0m\u001b[0;34m:\u001b[0m\u001b[0;34m\u001b[0m\u001b[0;34m\u001b[0m\u001b[0m\n\u001b[1;32m     58\u001b[0m             \u001b[0;31m# This as not been trained\u001b[0m\u001b[0;34m\u001b[0m\u001b[0;34m\u001b[0m\u001b[0;34m\u001b[0m\u001b[0m\n\u001b[0;32m---> 59\u001b[0;31m             \u001b[0;32mraise\u001b[0m \u001b[0mUntrainedUtilityError\u001b[0m\u001b[0;34m(\u001b[0m\u001b[0;34m\"BinDiscritzer\"\u001b[0m\u001b[0;34m)\u001b[0m\u001b[0;34m\u001b[0m\u001b[0;34m\u001b[0m\u001b[0m\n\u001b[0m\u001b[1;32m     60\u001b[0m             \u001b[0;31m# print(\"This has not been trained\")\u001b[0m\u001b[0;34m\u001b[0m\u001b[0;34m\u001b[0m\u001b[0;34m\u001b[0m\u001b[0m\n\u001b[1;32m     61\u001b[0m             \u001b[0;31m# print(\"Probably should make this an actual error so that the code stops\")\u001b[0m\u001b[0;34m\u001b[0m\u001b[0;34m\u001b[0m\u001b[0;34m\u001b[0m\u001b[0m\n",
      "\u001b[0;31mUntrainedUtilityError\u001b[0m: A BinDiscritzer utility is trying to fit data without being trained"
     ]
    }
   ],
   "source": [
    "from MLAlgorithms.Utils.BinDiscretizer import BinDiscretizer\n",
    "import math\n",
    "\n",
    "\n",
    "train = df.iloc[:math.floor(0.1*len(df))]\n",
    "test = df.iloc[math.floor(0.1*len(df)):]\n",
    "\n",
    "bd = BinDiscretizer(train[\"marginalAdhesion\"], bins=8)\n",
    "discrete = bd.train_fit()\n",
    "\n",
    "test_discrete = bd.fit(test[\"marginalAdhesion\"])\n",
    "\n",
    "plt.hist(discrete, alpha=0.5, label=\"Test\", density=True) #Density scales the histogram so that the area sums to 1\n",
    "plt.hist(test_discrete, alpha=0.5, label=\"Train\", density=True)\n",
    "plt.legend()\n",
    "plt.show()"
   ]
  },
  {
   "cell_type": "markdown",
   "metadata": {},
   "source": [
    "# Applying the Discritizer to several columns. \n",
    "\n",
    "This is just potential method"
   ]
  },
  {
   "cell_type": "code",
   "execution_count": 17,
   "metadata": {
    "tags": []
   },
   "outputs": [],
   "source": [
    "multi_bd = BinDiscretizer(train[metadata[\"breastCancer\"][\"continuous\"]], multi=True, bins=8)\n",
    "\n",
    "multi_bd.train_multi()\n",
    "multi_disc = multi_bd.fit_multi(test[metadata[\"breastCancer\"][\"continuous\"]])\n",
    "# test[metadata[\"breastCancer\"][\"continuous\"]]"
   ]
  },
  {
   "cell_type": "code",
   "execution_count": 14,
   "metadata": {},
   "outputs": [
    {
     "output_type": "execute_result",
     "data": {
      "text/plain": "9"
     },
     "metadata": {},
     "execution_count": 14
    }
   ],
   "source": [
    "len(multi_disc[\"normalNucleoli\"].unique())"
   ]
  },
  {
   "cell_type": "code",
   "execution_count": 18,
   "metadata": {},
   "outputs": [
    {
     "output_type": "execute_result",
     "data": {
      "text/plain": "clumpThickness                int64\nuniformityOfCellSize          int64\nuniformityOfCellShape         int64\nmarginalAdhesion              int64\nsingleEpithelialCellSize      int64\nbareNuclei                  float64\nblandChromatin                int64\nnormalNucleoli                int64\nmitoses                       int64\nclass                         int64\ndtype: object"
     },
     "metadata": {},
     "execution_count": 18
    }
   ],
   "source": [
    "test[metadata[\"breastCancer\"][\"continuous\"]].dtypes"
   ]
  },
  {
   "cell_type": "code",
   "execution_count": 19,
   "metadata": {},
   "outputs": [
    {
     "output_type": "execute_result",
     "data": {
      "text/plain": "array([ 1.,  4., 10.,  5.,  2.,  3.,  8.,  9.])"
     },
     "metadata": {},
     "execution_count": 19
    }
   ],
   "source": [
    "train[\"bareNuclei\"].unique()"
   ]
  },
  {
   "cell_type": "code",
   "execution_count": 8,
   "metadata": {},
   "outputs": [
    {
     "output_type": "execute_result",
     "data": {
      "text/plain": "'/mnt/c/Users/Andrew/School/CSCI 447/CSCI-447'"
     },
     "metadata": {},
     "execution_count": 8
    }
   ],
   "source": [
    "import os\n",
    "os.getcwd()"
   ]
  },
  {
   "cell_type": "code",
   "execution_count": 11,
   "metadata": {
    "tags": []
   },
   "outputs": [
    {
     "output_type": "stream",
     "name": "stdout",
     "text": "Obtaining file:///mnt/c/Users/Andrew/School/CSCI%20447/CSCI-447\nInstalling collected packages: MLAlgorithms\n  Attempting uninstall: MLAlgorithms\n    Found existing installation: MLAlgorithms 1.0\n    Uninstalling MLAlgorithms-1.0:\n      Successfully uninstalled MLAlgorithms-1.0\n  Running setup.py develop for MLAlgorithms\nSuccessfully installed MLAlgorithms\n"
    }
   ],
   "source": [
    "!pip3 install -e ."
   ]
  },
  {
   "cell_type": "code",
   "execution_count": null,
   "metadata": {},
   "outputs": [],
   "source": []
  }
 ]
}